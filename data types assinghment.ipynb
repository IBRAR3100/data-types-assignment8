{
 "cells": [
  {
   "cell_type": "markdown",
   "id": "457c75ad",
   "metadata": {},
   "source": [
    "integer(int): is a whole number without decimal point  "
   ]
  },
  {
   "cell_type": "code",
   "execution_count": 1,
   "id": "0aacb314",
   "metadata": {},
   "outputs": [
    {
     "name": "stdout",
     "output_type": "stream",
     "text": [
      "after 5 years age will be 40\n"
     ]
    }
   ],
   "source": [
    "age = 35\n",
    "new_age = age + 5\n",
    "print(f\"after 5 years age will be {new_age}\")"
   ]
  },
  {
   "cell_type": "markdown",
   "id": "9a8ead5d",
   "metadata": {},
   "source": [
    "STRING:A STRING IS TEXT ANY LETTERS ,NUMBER OR SYMBOLS WRITTEN INSIDE QUOTES\"\""
   ]
  },
  {
   "cell_type": "code",
   "execution_count": 3,
   "id": "a1fd99a6",
   "metadata": {},
   "outputs": [
    {
     "name": "stdout",
     "output_type": "stream",
     "text": [
      "good morning! wellcome musa awan have a nice day\n"
     ]
    }
   ],
   "source": [
    "name = \"musa awan\"\n",
    "greeting = \"good morning! wellcome musa awan have a nice day\"\n",
    "print(greeting)"
   ]
  },
  {
   "cell_type": "markdown",
   "id": "da1559ad",
   "metadata": {},
   "source": [
    "float is a number with decimal point "
   ]
  },
  {
   "cell_type": "code",
   "execution_count": 4,
   "id": "1cca35a8",
   "metadata": {},
   "outputs": [
    {
     "name": "stdout",
     "output_type": "stream",
     "text": [
      "todays temperature is 46.55\n"
     ]
    }
   ],
   "source": [
    "temperature = 46.55\n",
    "print(f\"todays temperature is {temperature}\")\n"
   ]
  },
  {
   "cell_type": "code",
   "execution_count": 6,
   "id": "f7cd27ed",
   "metadata": {},
   "outputs": [
    {
     "name": "stdout",
     "output_type": "stream",
     "text": [
      "my height is 5.11 feet\n"
     ]
    }
   ],
   "source": [
    "height_feet = 5.11\n",
    "print(f\"my height is {height_feet} feet\")"
   ]
  },
  {
   "cell_type": "code",
   "execution_count": 8,
   "id": "d2a4c66e",
   "metadata": {},
   "outputs": [
    {
     "name": "stdout",
     "output_type": "stream",
     "text": [
      "bought 5 book for total cost $ 62.75\n"
     ]
    }
   ],
   "source": [
    "item = \"book\"\n",
    "quantity = 5\n",
    "price = 12.55\n",
    "total_cost = quantity * price\n",
    "print(f\"bought {quantity} {item} for total cost $ {total_cost}\")\n",
    "\n"
   ]
  },
  {
   "cell_type": "code",
   "execution_count": null,
   "id": "00dab8f7",
   "metadata": {},
   "outputs": [
    {
     "name": "stdout",
     "output_type": "stream",
     "text": [
      "bought 3 football for total cost $ 360\n"
     ]
    }
   ],
   "source": [
    "item =  input(\"football\")\n",
    "quantity = int(input(7))\n",
    "price = float(input(20.5))\n",
    "total_cost = quantity * price\n",
    "print(f\"bought {quantity} {item} for total cost $ {total_cost}\") \n"
   ]
  }
 ],
 "metadata": {
  "kernelspec": {
   "display_name": "Python 3",
   "language": "python",
   "name": "python3"
  },
  "language_info": {
   "codemirror_mode": {
    "name": "ipython",
    "version": 3
   },
   "file_extension": ".py",
   "mimetype": "text/x-python",
   "name": "python",
   "nbconvert_exporter": "python",
   "pygments_lexer": "ipython3",
   "version": "3.12.9"
  }
 },
 "nbformat": 4,
 "nbformat_minor": 5
}
